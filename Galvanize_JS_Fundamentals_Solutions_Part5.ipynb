{
 "cells": [
  {
   "cell_type": "markdown",
   "metadata": {},
   "source": [
    "# Solutions to JavaScript Fundamentals Course by Galvanize (Part 5)"
   ]
  },
  {
   "cell_type": "markdown",
   "metadata": {},
   "source": [
    "Part 5 concepts:\n",
    "* exercises in initial value, iteration, accumulation\n",
    "* JavaScript challenge question"
   ]
  },
  {
   "cell_type": "markdown",
   "metadata": {},
   "source": [
    "## 46. Choose An Initial Value Exercise\n",
    "If you wanted to create a function that returns an object with name value pairs corresponding to input arrays `names = ['A', 'B', 'C']` and `values = ['1', '2', '3']`, what might the initial value be?"
   ]
  },
  {
   "cell_type": "code",
   "execution_count": null,
   "metadata": {},
   "outputs": [],
   "source": [
    "obj = [];"
   ]
  },
  {
   "cell_type": "markdown",
   "metadata": {},
   "source": [
    "## 47. Choose How To Iterate Exercise\n",
    "Write a function that takes two parameters `base` and `exponent` and uses a for loop to return a list of factors. For instance, if `base = 2` and `exponent = 4`, the result would be `[2,4,8,16]`."
   ]
  },
  {
   "cell_type": "code",
   "execution_count": null,
   "metadata": {},
   "outputs": [],
   "source": [
    "function factors(base, exponent) {\n",
    "  var array = [];\n",
    "  var result = 1;\n",
    "\n",
    "    if (exponent === 0 && typeof base == 'number') {\n",
    "      array = [result];\n",
    "} else if (base === 1) {\n",
    "  array = [result];\n",
    "} else {\n",
    "  for (let i = 0; i < exponent; i++) {\n",
    "    result *= base;\n",
    "    array[i] = result;\n",
    "}\n",
    "}\n",
    "return array;\n",
    "}"
   ]
  },
  {
   "cell_type": "markdown",
   "metadata": {},
   "source": [
    "## 48. Update The Accumulator Exercise\n",
    "Write a function that takes a string `word` and number of asterisks `num` and returns the string surrounded by that number of asterisks on both sides. For instance, if `word = cat` and `num = 3` the result would be `***cat***`."
   ]
  },
  {
   "cell_type": "code",
   "execution_count": null,
   "metadata": {},
   "outputs": [],
   "source": [
    "function asterisks (word, num) {\n",
    "  let result = [];\n",
    "  var ast = \"*\";\n",
    "  if (num === 0 || num.length === 0) {\n",
    "    result = word;\n",
    "  }\n",
    "  else {\n",
    "    for (i = 1; i<num; i++) {\n",
    "      ast += \"*\"\n",
    "    }\n",
    "    result = ast + word + ast\n",
    "  }\n",
    "  return result;\n",
    "}\n"
   ]
  },
  {
   "cell_type": "markdown",
   "metadata": {},
   "source": [
    "## 49. Use the Accumulator Pattern\n",
    "Given the following array of student grades, accumulate an array called `watchList` containing the names of students who received at least one grade below 60.\n",
    "\n",
    "```var students = [\n",
    "  {\n",
    "    \"name\":\"Dan\",\n",
    "    \"grades\":[33, 76, 99]\n",
    "  },\n",
    "  {\n",
    "    \"name\":\"Freya\",\n",
    "    \"grades\":[92, 65, 77]\n",
    "  },\n",
    "  {\n",
    "    \"name\":\"Azul\",\n",
    "    \"grades\":[45, 66, 89]\n",
    "  }\n",
    "]; ```"
   ]
  },
  {
   "cell_type": "code",
   "execution_count": null,
   "metadata": {},
   "outputs": [],
   "source": [
    "var students = [\n",
    "  {\n",
    "    \"name\":\"Dan\",\n",
    "    \"grades\":[33, 76, 99]\n",
    "  },\n",
    "  {\n",
    "    \"name\":\"Freya\",\n",
    "    \"grades\":[92, 65, 77]\n",
    "  },\n",
    "  {\n",
    "    \"name\":\"Azul\",\n",
    "    \"grades\":[45, 66, 89]\n",
    "  }\n",
    "];\n",
    "\n",
    "let watchList = [];\n",
    "  for (let key in students) {\n",
    "    for (let i = 0; i < (students[key].grades).length; i++) {\n",
    "      if (students[key].grades[i] < 60) {\n",
    "       watchList[key] = students[key].name;\n",
    "     }\n",
    "\n",
    "    }\n",
    "  }\n",
    "  watchList = watchList.filter(Boolean);\n",
    "  console.log(watchList);\n",
    "  //https://stackoverflow.com/questions/281264/remove-empty-elements-from-an-array-in-javascript\n"
   ]
  },
  {
   "cell_type": "markdown",
   "metadata": {},
   "source": [
    "An example of how we might accumulate this is here below:\n",
    "\n",
    "```var watchList = [];\n",
    "var watch = false;\n",
    "for (var i = 0; i < students.length; i++) {\n",
    "  watch = false;\n",
    "  for (var j = 0; j < students[i].grades.length; j++) {\n",
    "    if (students[i].grades[j] < 60) {\n",
    "      watch = true;\n",
    "    }\n",
    "  }\n",
    "  if (watch === true) {\n",
    "    watchList.push(students[i]['name'])\n",
    "  }\n",
    "} ```"
   ]
  },
  {
   "cell_type": "markdown",
   "metadata": {},
   "source": [
    "## 50. Pre-Challenge Question: Programming Challenge Question\n",
    "For this challenge, we are interested in finding the credit card number whose digits sum to the largest number. If more than one has the same largest sum of digits, we want the last one in the list with that sum. Write a single function called `highestSum` that takes one argument. That argument will be an array of credit card numbers. Assume the array can have any number of credit card numbers, and that each one is a string of digits and dashes. Your function should return the credit card number that has the largest sum of digits.\n",
    "\n",
    "Here is a sample array of credit card numbers:\n",
    "`['4916-2600-1804-0530', '4779-252888-3972', '4252-278893-7978', '4556-4242-9283-2260']`\n",
    "\n",
    "In the sample array above, the digits add up to 49, 81, 81, and 64 respectively. Since there are two which have the same sum, the function should return the last one with that sum, in this case '4252-278893-7978'.\n",
    "\n",
    "Things to accomplish:\n",
    "* Contain all variables and code needed within a function.\n",
    "* Have that function take one argument which will be an array of credit card number strings.\n",
    "* Determine the sum of digits for each credit card number.\n",
    "* Determine which credit card number has the last largest sum of digits.\n",
    "* Use a return statement to return the required card number in its’ original form."
   ]
  },
  {
   "cell_type": "code",
   "execution_count": null,
   "metadata": {},
   "outputs": [],
   "source": [
    "function highestSum(creditcards) {\n",
    "  var strarray = [];\n",
    "  var numarray = [];\n",
    "  if (creditcards.length === 0 ) {\n",
    "    return \"Please enter an array of valid credit card numbers\";\n",
    "  }\n",
    "  else {\n",
    "    //In the first for loop, the dashes are removed and then each string in strarray is split into an array of each individual element of the string.\n",
    "    for (var i = 0; i < creditcards.length; i++) {\n",
    "      strarray[i] = creditcards[i].replace(/-/g, \"\");\n",
    "      var dumarry = strarray[i].split(\"\");\n",
    "      var sum = 0;\n",
    "      //In the second loop, use parseInt to turn the strings into integers and sum all of the individual elements together\n",
    "      for (var j = 0; j < dumarry.length; j++) {  \n",
    "        sum += parseInt(dumarry[j]);  \n",
    "        //https://stackoverflow.com/questions/10052254/sum-of-a-string-of-one-digit-numbers-in-javascript\n",
    "      }\n",
    "   numarray[i] = sum; \n",
    "    }\n",
    "    //last for loop to find the index of the maximum number in the array\n",
    "    var max = numarray[0];\n",
    "    for (let k = 0; k < numarray.length; k++) {\n",
    "      if (max <= numarray[k+1]) {\n",
    "        max = numarray[k+1];\n",
    "     } \n",
    "   }\n",
    "  var n = numarray.lastIndexOf(max);\n",
    "  //https://www.w3schools.com/jsref/jsref_lastindexof_array.asp\n",
    "  return creditcards[n];\n",
    "  }\n",
    "}\n"
   ]
  }
 ],
 "metadata": {
  "kernelspec": {
   "display_name": "Javascript (Node.js)",
   "language": "javascript",
   "name": "javascript"
  },
  "language_info": {
   "file_extension": ".js",
   "mimetype": "application/javascript",
   "name": "javascript",
   "version": "10.13.0"
  }
 },
 "nbformat": 4,
 "nbformat_minor": 4
}
