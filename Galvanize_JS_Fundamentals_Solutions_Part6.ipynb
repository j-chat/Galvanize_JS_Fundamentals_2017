{
 "cells": [
  {
   "cell_type": "markdown",
   "metadata": {},
   "source": [
    "# Solutions to JavaScript Fundamentals Course by Galvanize (Part 6)"
   ]
  },
  {
   "cell_type": "markdown",
   "metadata": {},
   "source": [
    "Part 6 concepts:\n",
    "* html challenges"
   ]
  },
  {
   "cell_type": "markdown",
   "metadata": {},
   "source": [
    "## 51. Challenge\n",
    "Can you identify the element, tag name, and attribute of this HTML link:\n",
    "\n",
    "`<a href=\"https://www.apple.com\">Apple</a>`"
   ]
  },
  {
   "cell_type": "markdown",
   "metadata": {},
   "source": [
    "### a. Which is the element?\n",
    "When we use the term element, what in the above code snippet are we referencing?\n",
    "\n",
    "`<a href=\"https://www.apple.com\">Apple</a>`"
   ]
  },
  {
   "cell_type": "markdown",
   "metadata": {},
   "source": [
    "### b. Identify the Tag Name\n",
    "What is the name of the tag from the code snippet above?\n",
    "\n",
    "`a`"
   ]
  },
  {
   "cell_type": "markdown",
   "metadata": {},
   "source": [
    "### c. Identify the Attribute\n",
    "What is the Attribute from the above code snippet?\n",
    "\n",
    "`href=\"https://www.apple.com\"`"
   ]
  },
  {
   "cell_type": "markdown",
   "metadata": {},
   "source": [
    "### d. Write a Comment\n",
    "Write an HTML comment that says \"I am a comment\".\n",
    "\n",
    "`<!-- \"I am a comment\" -->`"
   ]
  },
  {
   "cell_type": "markdown",
   "metadata": {},
   "source": [
    "## 52. Framework Challenge: Build a simple framework\n",
    "[Create a new CodePen](https://codepen.io/pen/) that includes the HTML for all of the common elements needed for every page. Your framework should include:\n",
    "* A Doctype Declaration\n",
    "* An HTML tag\n",
    "* A Head\n",
    "* A Page Title\n",
    "* A Body"
   ]
  },
  {
   "cell_type": "code",
   "execution_count": null,
   "metadata": {},
   "outputs": [],
   "source": [
    "<!DOCTYPE html>\n",
    "<html>\n",
    "\n",
    "<head>\n",
    "  <title>Page Title</title>\n",
    "</head>\n",
    "\n",
    "<body>\n",
    "  This is unformatted text that is the only item of content within the body of this simple web page.\n",
    "</body>\n",
    "\n",
    "</html>\n",
    "\n",
    "//https://codepen.io/anon/pen/mpbeEE"
   ]
  },
  {
   "cell_type": "markdown",
   "metadata": {},
   "source": [
    "## 53. Challenge: Framework Update\n",
    "### Add metadata to your framework in the `<head>` tag\n",
    "Using the existing HTML framework you started with in the previous lesson, update the page with the following elements:\n",
    "* Add a language to your `<html>` tag.\n",
    "* Add a `<meta>` tag that sets the `charset` (character set) encoding to your page to `utf-8`\n",
    "* Add a `<meta>` tag that sets the description of your page"
   ]
  },
  {
   "cell_type": "code",
   "execution_count": null,
   "metadata": {},
   "outputs": [],
   "source": [
    "<!DOCTYPE html>\n",
    "<html lang=\"en\">\n",
    "\n",
    "<head>\n",
    "   <meta charset=\"utf-8\">\n",
    "   <meta name=\"description\" content=\"description\">\n",
    "<title>Sample HTML Page</title>\n",
    "</head>\n",
    "\n",
    "<body>\n",
    "  <!-- WEB PAGE CONTENT HERE -->\n",
    "</body>\n",
    "</html>\n",
    "\n",
    "//https://codepen.io/anon/pen/rYboxG"
   ]
  },
  {
   "cell_type": "markdown",
   "metadata": {},
   "source": [
    "## 54. Write HTML to create text elements on a webpage\n",
    "Fork the following CodePen and submit your own:\n",
    "* Headings\n",
    "* Paragraphs\n",
    "* ListsWrite HTML to create text elements on a webpage"
   ]
  },
  {
   "cell_type": "code",
   "execution_count": null,
   "metadata": {},
   "outputs": [],
   "source": [
    "<h1>Mystery Movies on Netflix</h1>\n",
    "\n",
    "<h2>Identity</h2>\n",
    "\n",
    "<p>Stranded at a desolate Nevada motel during a nasty rain-storm, ten strangers become acquainted with each other when they realize that they're being killed off one by one.</p>\n",
    "\n",
    "<h3>Stars</h3>\n",
    "<ul>\n",
    "  <li>John Cusack</li>\n",
    "  <li>Ray Liotta</li>\n",
    "  <li>Amanda Peet</li>\n",
    "</ul>\n",
    "\n",
    "<h2>The Machinist</h2>\n",
    "\n",
    "<p>An industrial worker who hasn't slept in a year begins to doubt his own sanity.</p>\n",
    "\n",
    "<h3>Stars<\\h3>\n",
    "<ul>\n",
    "  <li>Christian Bale</li>\n",
    "  <li>Jennifer Jason Leigh</li>\n",
    "  <li>Aitana Sánchez-Gijón</li>\n",
    "</ul>\n",
    "\n",
    "<h2>Tinker Tailor Soldier Spy</h2>\n",
    "  \n",
    "<p>In the bleak days of the Cold War, espionage veteran George Smiley is forced from semi-retirement to uncover a Soviet agent within MI6</p>\n",
    "\n",
    "<h3>Stars</h3>\n",
    "<ul>\n",
    "  <li>Gary Oldman</li>\n",
    "<li>Colin Firth</li>\n",
    "  <li>Tom Hardy</li>\n",
    "</ul>\n",
    "\n",
    "//https://codepen.io/anon/pen/ypBYNj"
   ]
  },
  {
   "cell_type": "markdown",
   "metadata": {},
   "source": [
    "## 55. Image and Link Path Challenge\n",
    "1. Look at the Logo on index.html- it provides an example for how to link within the project.\n",
    "2. Link the logo on all four pages to connect to the home page.\n",
    "3. On the home page, add the images paths for the three images in the climbing subdirectory:\n",
    "       1. Man on Wall\n",
    "       2. Climbing Gear\n",
    "       3. Chalked Hands\n",
    "4. On the home page, link each of the three images to their appropriate pages. The link should open the page into the existing window.\n",
    "        1. Man on Wall -> man.html\n",
    "        2. Climbing Gear -> gear.html\n",
    "        3. Chalked Hands -> chalk.html\n",
    "5. On the home page, link the key words in the paragraphs to the following web sites:\n",
    "        1. Rock Climbing -> http://www.climbing.com/\n",
    "        2. Quickdraws -> http://www.trango.com/\n",
    "        3. Chalk -> https://frictionlabs.com/"
   ]
  },
  {
   "cell_type": "code",
   "execution_count": null,
   "metadata": {},
   "outputs": [],
   "source": [
    "Index.html\n",
    "<!doctype html>\n",
    "<html lang=\"en\">\n",
    "<head>\n",
    "  <meta charset=\"UTF-8\">\n",
    "  <meta name=\"description\" content=\"Web Design Project: Info on rock climbing.\">\n",
    "  <title>Image & Link Paths Challenge | Galvanize</title>\n",
    "</head>\n",
    "<body>\n",
    "  <a href=\"index.html\"><img src=\"./images/logo-climbing.jpg\" width=\"200\"></a>\n",
    "  <h1>Rock Climbing Info</h1>\n",
    "  <h2>What is Rock Climbing?</h2>\n",
    "  <a href=\"man.html\" target=\"_self\"><img src=\"./images/climbing/man-on-the-wall.jpg\" width=\"600\"></a>\n",
    "  <p><a href=\"http://www.climbing.com/\">Rock climbing</a> is an activity in which participants climb up, down or across natural rock formations or artificial rock walls.</p>\n",
    "  <h2>What does climbing gear do?</h2>\n",
    "  <a href=\"gear.html\" target=\"_self\"><img src=\"./images/climbing/gear.jpg\" width=\"600\"></a>\n",
    "  <h1>Rock Climbing Info</h1>\n",
    "  <h2>Chalked Hands</h2>\n",
    "    <a href=\"chalk.html\" target=\"_self\"><img src=\"./images/climbing/chalked-hands.jpg\" width=\"600\"></a>\n",
    "</body>\n",
    "</html>\n",
    "-----------------------------------------------------------------------\n",
    "Gear.html\n",
    "<!doctype html>\n",
    "<html lang=\"en\">\n",
    "<head>\n",
    "<meta charset=\"UTF-8\">\n",
    "<meta name=\"description\" content=\"Web Design Project: Photo of climbing gear.\">\n",
    "<title>Image & Link Paths Challenge | Galvanize</title>\n",
    "</head>\n",
    "<body>\n",
    "  <a href=\"index.html\"><img src=\"./images/logo-climbing.jpg\" width=\"200\"></a>\n",
    "  <h1>Rock Climbing Info</h1>\n",
    "  <h2>Climbing Gear</h2>\n",
    "    <a href=\"gear.html\" target=\"_self\"><img src=\"./images/climbing/gear.jpg\" width=\"600\"></a>\n",
    "</body>\n",
    "</html>\n",
    "-----------------------------------------------------------------------\n",
    "Man.html\n",
    "<!doctype html>\n",
    "<html lang=\"en\">\n",
    "<head>\n",
    "<meta charset=\"UTF-8\">\n",
    "<meta name=\"description\" content=\"Web Design Project: Photo of a man rock climbing.\">\n",
    "<title>Image & Link Paths Challenge | Galvanize</title>\n",
    "</head>\n",
    "<body>\n",
    "<a href=\"index.html\"><img src=\"./images/logo-climbing.jpg\" width=\"200\"></a>\n",
    "  <h1>Rock Climbing Info</h1>\n",
    "  <h2>Man on Wall</h2>\n",
    "    <a href=\"man.html\" target=\"_self\"><img src=\"./images/climbing/man-on-the-wall.jpg\" width=\"600\"></a>\n",
    "</body>\n",
    "</html>\n"
   ]
  },
  {
   "cell_type": "markdown",
   "metadata": {},
   "source": [
    "## 56. Write HTML to form the basic structure of a webpage\n",
    "Fork this CodePen Project and submit your link once you've completed the tasks below: https://codepen.io/Galvanize-Learn/project/editor/DOyexJ/#0 \n",
    "\n",
    "### Tasks\n",
    "* Using the template you've been constructing, add that template to both the `index.html` and `about.html` pages.\n",
    "* Create a link to the home page on the about page, and a link to the about page on the home page.\n",
    "* Add a header to the index page that says \"Home\", and one that says \"About\" on the about page.\n",
    "* On the Home page, create 4 imaginary products. Add an image, some description text, and a header with the product's name."
   ]
  },
  {
   "cell_type": "code",
   "execution_count": null,
   "metadata": {},
   "outputs": [],
   "source": [
    "Index.html\n",
    "<!DOCTYPE html>\n",
    "<html>\n",
    "  <html lang=\"en\">\n",
    "<head>\n",
    "  <meta charset=\"UTF-8\">\n",
    "  <meta name=\"description\" content=\"Checkpoint: HTML for basic webpage\">\n",
    "\n",
    "\n",
    "<head>\n",
    "  <title>My basic webpage</title>\n",
    "</head>\n",
    "\n",
    "<body>\n",
    "   <h1>Home</h1>\n",
    " <h2>Imaginary Product 1</h2>\n",
    "  <a href=\"about.html\" target=\"_self\"><img src=\"https://img.buzzfeed.com/buzzfeed-static/static/enhanced/webdr06/2013/7/30/17/enhanced-buzz-3427-1375221561-41.jpg?downsize=715:*&output-format=auto&output-quality=auto\" width=\"400\"></a>\n",
    "  <p>A towel dryer that not only dries your towels, but disinfects them with UV light.</p>\n",
    "\n",
    "   <h2>Imaginary Product 2</h2>\n",
    "  <a href=\"about.html\" target=\"_self\"><img src=\"https://img.buzzfeed.com/buzzfeed-static/static/enhanced/webdr03/2013/8/20/13/enhanced-buzz-7208-1377019017-13.jpg?downsize=715:*&output-format=auto&output-quality=auto\" width=\"400\"></a>\n",
    "  <p>A water sterilizer for your fresh foods.</p>\n",
    "  \n",
    "  <h2>Imaginary Product 3</h2>\n",
    "  <a href=\"about.html\" target=\"_self\"><img src=\"https://img.buzzfeed.com/buzzfeed-static/static/enhanced/webdr02/2013/9/2/18/enhanced-buzz-10861-1378161554-5.jpg?downsize=715:*&output-format=auto&output-quality=auto\" width=\"400\"></a>\n",
    "  <p>The ultimate floor-plan light switch for lazy people with big houses.</p>\n",
    "\n",
    "   <h2>Imaginary Product 4</h2>\n",
    "  <a href=\"about.html\" target=\"_self\"><img src=\"https://img.buzzfeed.com/buzzfeed-static/static/enhanced/webdr03/2013/9/3/11/enhanced-buzz-650-1378221031-11.jpg?downsize=715:*&output-format=auto&output-quality=auto\" width=\"400\"></a>\n",
    "  <p>Easily transportable electromagnetic dumbbells that can adjust weight automatically.</p>\n",
    "<h2>About</h2>\n",
    "  <a href=\"about.html\" target=\"_self\">Link to the About Page</a>\n",
    "  <p> A list of products taken from <a href=\"https://www.buzzfeed.com/peggy/products-you-cant-believe-dont-exist-yet?utm_term=.skK7OXXWgY#.yu2gq99v6e\">a buzzfeed article.</a> </p>\n",
    "</body>\n",
    "</html>\n",
    "// https://codepen.io/anon/pen/ZvzQwp\n",
    "-----------------------------------------------------------------------------------\n",
    "about.html\n",
    "<!DOCTYPE html>\n",
    "<html>\n",
    "  <html lang=\"en\">\n",
    "<head>\n",
    "  <meta charset=\"UTF-8\">\n",
    "  <meta name=\"description\" content=\"Checkpoint: HTML for basic webpage\">\n",
    "<head>\n",
    "  <title>My basic webpage</title>\n",
    "</head>\n",
    "<body>\n",
    "<h1> Home </h1>\n",
    "<a href=\"index.html\">Link to the Homepage</a>\n",
    "        <h2>About</h2>\n",
    "  <a href=\"about.html\" target=\"_self\">Link to the About Page</a>\n",
    "  <p> A list of products taken from <a href=\"https://www.buzzfeed.com/peggy/products-you-cant-believe-dont-exist-yet?utm_term=.skK7OXXWgY#.yu2gq99v6e\">a buzzfeed article.</a> </p>\n",
    "</body>\n",
    "</html>"
   ]
  },
  {
   "cell_type": "markdown",
   "metadata": {},
   "source": [
    "## 57. Challenge\n",
    "Make changes to the pre-built HTML site. Either edit with CodePen or download the files and edit with your code editor.\n",
    "\n",
    "### Your HTML Creation\n",
    "\n",
    "After you're done with the tasks above, save your work.\n",
    "* If you forked and cloned a repository, push to github and paste the URL of your Fork below.\n",
    "* If you used Atom, copy the code into CodePen, save it, and submit the URL below.\n",
    "* If you used CodePen alone, submit the URL of your CodePen (located in the URL bar, after you click Save)."
   ]
  },
  {
   "cell_type": "code",
   "execution_count": null,
   "metadata": {},
   "outputs": [],
   "source": [
    "HTML\n",
    "<html>\n",
    "\n",
    "<head>\n",
    "  <title>HTML Page Title</title>\n",
    "</head>\n",
    "<body>\n",
    "  <img src=\"https://images.unsplash.com/photo-1465188162913-8fb5709d6d57\" width=\"500\" />\n",
    "  <h1>This is a simple title created within HTML.</h1>\n",
    "  <p>This is a simple paragraph created within HTML.</p>\n",
    "  \n",
    "  <p>Image Source: <a href=\"http://www.unsplash.com\" target=\"_blank\">Unsplash</a></p>\n",
    "</body>\n",
    "\n",
    "</html>\n",
    "CSS\n",
    "h1 {\n",
    "  font-family: Verdana;\n",
    "  font-size: 40px;\n",
    "  color: navy;\n",
    "}\n",
    "\n",
    "p {\n",
    "  font-family: Georgia;\n",
    "  font-size: 20px;\n",
    "  color: blue;\n",
    "}\n",
    "//https://codepen.io/anon/pen/aEbrdJ"
   ]
  }
 ],
 "metadata": {
  "kernelspec": {
   "display_name": "Javascript (Node.js)",
   "language": "javascript",
   "name": "javascript"
  },
  "language_info": {
   "file_extension": ".js",
   "mimetype": "application/javascript",
   "name": "javascript",
   "version": "10.13.0"
  }
 },
 "nbformat": 4,
 "nbformat_minor": 4
}
