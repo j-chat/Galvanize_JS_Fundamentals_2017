{
 "cells": [
  {
   "cell_type": "markdown",
   "metadata": {},
   "source": [
    "# Solutions to JavaScript Fundamentals Course by Galvanize (Part 3)"
   ]
  },
  {
   "cell_type": "markdown",
   "metadata": {},
   "source": [
    "Part 3 concepts:\n",
    "* string manipulation\n",
    "* camelCase\n",
    "* string concatenation\n",
    "* template strings"
   ]
  },
  {
   "cell_type": "markdown",
   "metadata": {},
   "source": [
    "## 31. My favorite foods!\n",
    "Create a function named `myFavoriteFoods()` that takes in one argument, foods, an array of different foods as strings. Return a string that says 'My favorite foods are: {food1}, {food2}, ..., {foodN}!' If an empty array is supplied, return \"My favorite foods are: I don't have any!\"\n",
    "\n",
    "Ex. myFavoriteFoods([\"Waffles\", \"Waffles\", \"Waffles\"]) returns \"My favorite foods are: Waffles, Waffles, and Waffles!\""
   ]
  },
  {
   "cell_type": "code",
   "execution_count": null,
   "metadata": {},
   "outputs": [],
   "source": [
    "function myFavoriteFoods(foods) {\n",
    "   var fav = \"My favorite foods are: \";\n",
    "   if (foods.length !== 0) {\n",
    "     var smlist = ((foods.slice(0, foods.length-1)).toString()).replace(/,/g, \", \");\n",
    "     return fav + smlist + \", and\" + \" \" + foods[foods.length-1] + '!';\n",
    "      // smlist converts a subarray (all elements before the last) to a string with\n",
    "     //  regex to replace all commas to commas with space after it\n",
    "   } else {\n",
    "     return fav + \"I don\\'t have any!\";\n",
    "   }\n",
    "} "
   ]
  },
  {
   "cell_type": "markdown",
   "metadata": {},
   "source": [
    "## 32. JS split number\n",
    "Write a function named `splitNumber` that takes a phone number in the form of a string (formatted 'xxx-xxx-xxxx') and uses the `.split()` method to returns an array of the chunks\n",
    "Example:\n",
    "    • If you pass `\"512-867-5309\"` it should return `[\"512\", \"867\", \"5309\"]`\""
   ]
  },
  {
   "cell_type": "code",
   "execution_count": null,
   "metadata": {},
   "outputs": [],
   "source": [
    "function splitNumber(phone) {\n",
    "    var phone;\n",
    "    if (phone.includes(\"-\")){\n",
    "        return (phone.slice(0,3) + \" \" + phone.slice(4,7) + \" \" + phone.slice(8,12)).split(\" \");\n",
    "        // for hypens, slipt the string into an array of chunks\n",
    "    } else {\n",
    "        return phone.split(\" \");\n",
    "        // for empty strings and no hypens, return an array of that string\n",
    "    }\n",
    "}\n"
   ]
  },
  {
   "cell_type": "markdown",
   "metadata": {},
   "source": [
    "## 33. String Manipulation\n",
    "Define a function named `capitalize` that takes one argument\n",
    "* message (string)\n",
    "    - Return the argument with the first letter capitalized.\n",
    "    - For example, given `'oh, you'`, then return `'Oh, you'`.\n",
    "    - Hint: check out `str.toUpperCase()`  if you are stuck!.\n",
    "Define a function named `shout` that takes one argument\n",
    "* message (string)\n",
    "    - Return the same argument but all in uppercase letters. For example, given\n",
    "    - `'Shut the front door'`, then return `'SHUT THE FRONT DOOR'`\n",
    "Define a function named `whisper` that takes one argument\n",
    "* message (string)\n",
    "    - Return the same argument but all in lowercase letters and prefixed by `'shhh... '`.\n",
    "    - For example, given `'GOLF TIME'`, then return `\"shhh... golf time\"`\n",
    "Tips:\n",
    "* https://developer.mozilla.org/en-US/docs/Web/JavaScript/Reference/Global_Objects/String \n",
    "* https://developer.mozilla.org/en-US/docs/Web/JavaScript/Reference/Global_Objects/String/substring "
   ]
  },
  {
   "cell_type": "code",
   "execution_count": null,
   "metadata": {},
   "outputs": [],
   "source": [
    "function capitalize(message) {\n",
    "    var message;\n",
    "    return (message.slice(0, 1)).toUpperCase() + message.slice(1);\n",
    "    // Capitalize the first letter of the sentence \n",
    "}\n",
    "\n",
    "function shout(message) {\n",
    "    var message;\n",
    "    return message.toUpperCase();\n",
    "}\n",
    "\n",
    "function whisper(message) {\n",
    "    var message;\n",
    "    return 'shhh... ' + message.toLowerCase();\n",
    "}"
   ]
  },
  {
   "cell_type": "markdown",
   "metadata": {},
   "source": [
    "## 34. String Concatenation OR Use a Template String\n",
    "Define a function named `greet` that takes 2 arguments\n",
    "* firstName (string)\n",
    "* lastName (string)\n",
    "    - Return a string in the format 'Hello, Kelly Rippa!' using these arguments\n",
    "    - 🌟 Bonus: Use a template string to do this!\n",
    "Bonus:\n",
    "* https://developer.mozilla.org/en-US/docs/Web/JavaScript/Reference/Global_Objects/String#Template_strings "
   ]
  },
  {
   "cell_type": "code",
   "execution_count": null,
   "metadata": {},
   "outputs": [],
   "source": [
    "function greet(firstName, lastName) {\n",
    "    return \"Hello, \" + firstName + \" \" + lastName + \"!\";\n",
    "}"
   ]
  },
  {
   "cell_type": "markdown",
   "metadata": {},
   "source": [
    "## 35. String Concatenation OR Use a Template String\n",
    "Define a function named `toSentence` that takes four arguments\n",
    "* word1 (string)\n",
    "* word2 (string)\n",
    "* word3 (string)\n",
    "* oxfordComma (boolean)\n",
    "    - If `oxfordComma` is true,\n",
    "* Return a string in the format \"word1, word2, and word3.\"\n",
    "    - If `oxfordComma` is false,\n",
    "* Return a string in the format \"word1, word2 and word3.\"\n",
    "Tips:\n",
    "* https://developer.mozilla.org/en-US/docs/Web/JavaScript/Reference/Operators/Arithmetic_Operators#Addition \n",
    "* https://developer.mozilla.org/en-US/docs/Web/JavaScript/Guide/Expressions_and_Operators#String_operators "
   ]
  },
  {
   "cell_type": "code",
   "execution_count": null,
   "metadata": {},
   "outputs": [],
   "source": [
    "function toSentence(word1, word2, word3, oxfordComma) {\n",
    "    if (oxfordComma === true) {\n",
    "        return word1 + \", \" + word2 + \", and \" + word3 + \".\"; \n",
    "    } else {\n",
    "        return word1 + \", \" + word2 + \" and \" + word3 + \".\"; \n",
    "    }\n",
    "\n",
    "}"
   ]
  },
  {
   "cell_type": "markdown",
   "metadata": {},
   "source": [
    "## 36. Camelize\n",
    "The purpose of this challenge is to write a function named `camelize` that will take one argument, a string containing a phrase consisting of one or more words, and returns a string of that phrase converted into lower camel case. For reference read up on [camelCase here](https://en.wikipedia.org/wiki/Camel_case).  Any punctuation in the original phrase should be ignored and not present in the answer, unless it is a - (hyphen) or an _ (underscore). If given a string with no alphabetical characters, or an invalid data type, or nothing at all, return `\"Please enter a valid string.\"`\n",
    "\n",
    "For example, given the input `\"hello there\"`, it should return `\"helloThere\"`. \n",
    "Given the input `\"My name is Jeff\"`, it should return `\"myNameIsJeff\"`. \n",
    "Given the input `\"Who am I? Don't worry about it.\"`, it should return `\"whoAmIDontWorryAboutIt\"`. \n",
    "Given the input `\"Today is_the day!\"`, it should return `\"todayIs_theDay\"`."
   ]
  },
  {
   "cell_type": "code",
   "execution_count": null,
   "metadata": {},
   "outputs": [],
   "source": [
    "function camelize(phrase) {\n",
    "    if (typeof phrase !== 'string') {\n",
    "        //http://tobyho.com/2011/01/28/checking-types-in-javascript/\n",
    "      return \"Please enter a valid string.\";\n",
    "      // if data type is not a string\n",
    "    }  else if (phrase.length === 0) {\n",
    "      return \"Please enter a valid string.\";\n",
    "      //if string is empty\n",
    "    } else if (/^[a-zA-Z]/.test(phrase)) {\n",
    "      /* https://stackoverflow.com/questions/23476532/check-if-string-contains-only-letters-in-javascript\n",
    "checks in the phrase begins with a letter */\n",
    "          phrase = phrase.replace(/[.,'\\/#!$%\\^&\\*;:{}=\\`~()?]/g,\"\");\n",
    "      //https://stackoverflow.com/questions/4328500/how-can-i-strip-all-punctuation-from-a-string-in-javascript-using-regex\n",
    "            var array = phrase.split(\" \");\n",
    "      array[0] = array[0].toLowerCase();\n",
    "      for (let i = 1; i < array.length; i++) {\n",
    "        array[i] = (array[i].slice(0, 1)).toUpperCase() + array[i].slice(1);\n",
    "    }\n",
    "     return (array.toString()).replace(/,/g, \"\");\n",
    "    }\n",
    "    else {\n",
    "      return \"Please enter a valid string.\";\n",
    "      // for strings that does not contain letters\n",
    "    }\n",
    "}"
   ]
  },
  {
   "cell_type": "markdown",
   "metadata": {},
   "source": [
    "## 37. Iterating over Arrays to build up a large template string\n",
    "Due to budget cuts, we'll need to cut back on the days of Christmas in this song. Use a template string to produce the new song given the number of days as a number.\n",
    "\n",
    "`daysOfChristmas(5)` should produce the following string:\n",
    "\n",
    "On the 1st day of Christmas my true love gave to me, a partridge in a pear tree\n",
    "\n",
    "On the 2nd day of Christmas my true love gave to me, two turtle doves and a partridge in a pear tree\n",
    "\n",
    "On the 3rd day of Christmas my true love gave to me, three french hens two turtle doves and a partridge in a pear tree\n",
    "\n",
    "On the 4th day of Christmas my true love gave to me, four calling birds three french hens two turtle doves and a partridge in a pear tree\n",
    "\n",
    "On the 5th day of Christmas my true love gave to me, five golden rings four calling birds three french hens two turtle doves and a partridge in a pear tree\n",
    "\n",
    "* Include line breaks with `\\n`\n",
    "* Don't repeat yourself!\n",
    "* We'll only test up to `5`\n",
    "* If no argument or `0` is given, return `\"I got coal for Christmas\"`"
   ]
  },
  {
   "cell_type": "code",
   "execution_count": null,
   "metadata": {},
   "outputs": [],
   "source": [
    "var dayOfXmas = \"day of Christmas my true love gave to me,\";\n",
    "var endings = [\"st\", \"nd\", \"rd\", \"th\", \"th\"];\n",
    "var days = [\"a partridge in a pear tree\", \"two turtle doves and\", \"three french hens\",\n",
    "\"four calling birds\", \"five golden rings\"];\n",
    "\n",
    "function daysOfChristmas(n) {\n",
    "  let lastpart = days[0];\n",
    "  let song = `On the ${1}${endings[0]} ${dayOfXmas} ${lastpart}`;\n",
    "  if (n === 0 || typeof n === 'undefined') {\n",
    "    song = \"I got coal for Christmas\";\n",
    "  } else {\n",
    "        for (let i = 1; i < n; i++) {\n",
    "      lastpart = `${days[i]} ${lastpart}`;\n",
    "      song +=  `\\nOn the ${i+1}${endings[i]} ${dayOfXmas} ${lastpart}`;\n",
    "}\n",
    "}\n",
    "return song;\n",
    "}\n"
   ]
  }
 ],
 "metadata": {
  "kernelspec": {
   "display_name": "Javascript (Node.js)",
   "language": "javascript",
   "name": "javascript"
  },
  "language_info": {
   "file_extension": ".js",
   "mimetype": "application/javascript",
   "name": "javascript",
   "version": "10.13.0"
  }
 },
 "nbformat": 4,
 "nbformat_minor": 4
}
