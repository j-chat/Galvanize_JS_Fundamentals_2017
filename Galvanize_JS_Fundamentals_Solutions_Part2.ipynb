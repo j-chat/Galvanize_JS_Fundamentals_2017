{
 "cells": [
  {
   "cell_type": "markdown",
   "metadata": {},
   "source": [
    "# Solutions to JavaScript Fundamentals Course by Galvanize (Part 2)"
   ]
  },
  {
   "cell_type": "markdown",
   "metadata": {},
   "source": [
    "Part 2 concepts:\n",
    "* functions\n",
    "    - parameters\n",
    "    - strings\n",
    "    - cases"
   ]
  },
  {
   "cell_type": "markdown",
   "metadata": {},
   "source": [
    "## 16. Write your own JavaScript Function\n",
    "Using the JavaScript function syntax we learned above, write a function called `helloWorld` that uses `console.log()` to display the string \"`Hello, World!`\""
   ]
  },
  {
   "cell_type": "code",
   "execution_count": null,
   "metadata": {},
   "outputs": [],
   "source": [
    "function helloWorld() {\n",
    "  console.log(\"Hello, World!\");\n",
    "}\n"
   ]
  },
  {
   "cell_type": "markdown",
   "metadata": {},
   "source": [
    "## 17. Parameterizing Functions\n",
    "Recall your `sayMyName` function from before. It should say \"My name is Ada\", but with your name. It can currently only say your name though. Let's upgrade it to allow it to say anyone's name, and let's have it `return` instead of logging.\n",
    "* Add a parameter to your function to allow it to use anyone's name\n",
    "* Use string concatenation to append the name to the string \"`My name is `\".\n",
    "* `return` the new string."
   ]
  },
  {
   "cell_type": "code",
   "execution_count": null,
   "metadata": {},
   "outputs": [],
   "source": [
    "function sayMyName(name) {\n",
    "  return \"My name is \" + name;\n",
    "}"
   ]
  },
  {
   "cell_type": "markdown",
   "metadata": {},
   "source": [
    "## 18. Multiple Parameters\n",
    "We're going to write a function that takes multiple parameters. One for your name, and one for your title.\n",
    "* Write a function called `formalGreeting` that takes two parameters.\n",
    "* The first parameter should be a string, `name`\n",
    "* The next parameter should be a string, `title`\n",
    "* `return` a string that is formatted like so: `\"My name is Rear Admiral Grace Hopper\"`"
   ]
  },
  {
   "cell_type": "code",
   "execution_count": null,
   "metadata": {},
   "outputs": [],
   "source": [
    "function formalGreeting(name, title) {\n",
    "  return \"My name is \" + title + \" \" + name;\n",
    "}\n"
   ]
  },
  {
   "cell_type": "markdown",
   "metadata": {},
   "source": [
    "## 19. two params function\n",
    "Time to write a function with a little more complex behavior.\n",
    "* Write a function called `whichIsLonger`\n",
    "* It should accept two strings\n",
    "* `return` the longer of the two strings.\n",
    "* If the strings are the same length, return the first string."
   ]
  },
  {
   "cell_type": "code",
   "execution_count": null,
   "metadata": {},
   "outputs": [],
   "source": [
    "function whichIsLonger(first, second) {\n",
    "    var first;\n",
    "    var second;\n",
    "  if (first.length < second.length) {\n",
    "    return second;\n",
    "} else if (second.length < first.length) {\n",
    "    return first;\n",
    "} else {\n",
    "    return first;\n",
    "}\n",
    "}\n",
    "\n",
    "whichIsLonger('Mel', 'Jill');\n",
    "// 'Jill'\n",
    "\n",
    "whichIsLonger('abcd', 'abcdefg');\n",
    "// 'abcdefg'\n",
    "\n",
    "whichIsLonger('abcd', 'efgh');\n",
    "// 'abcd'"
   ]
  },
  {
   "cell_type": "markdown",
   "metadata": {},
   "source": [
    "## 20. Variable Arguments\n",
    "Time to use the arguments keyword ourselves.\n",
    "* Create a function called `average`\n",
    "* The function should have no parameters\n",
    "* Using the `arguments` keyword, calculate the _integer_ average of all the numbers passed into the function\n",
    "* Remember that the average is the sum, divided by the number of elements you are averaging.\n",
    "* Look up `Math.ceil()` to turn your floating point numbers into integers"
   ]
  },
  {
   "cell_type": "code",
   "execution_count": null,
   "metadata": {},
   "outputs": [],
   "source": [
    "function average() {\n",
    "  var average = 0;\n",
    "  for (var i=0; i<arguments.length; i++) {\n",
    "    if (typeof arguments[i] === \"number\") {\n",
    "      average += arguments[i];\n",
    "    }\n",
    "  }\n",
    "  average = Math.ceil(average/arguments.length)\n",
    "  return average;\n",
    "}"
   ]
  },
  {
   "cell_type": "markdown",
   "metadata": {},
   "source": [
    "## 21. Optional Arguments\n",
    "What if you want your exponent to be `0`? Rewrite the function so that it can take 0 as an exponent."
   ]
  },
  {
   "cell_type": "code",
   "execution_count": null,
   "metadata": {},
   "outputs": [],
   "source": [
    "function power(base, exponent) {\n",
    "  if (exponent === 0) {\n",
    "    return 1;\n",
    "}\n",
    "  var exponent = exponent || 2;\n",
    "  var result = 1;\n",
    "  for (var count = 0; count < exponent; count++) {\n",
    "    result *= base;\n",
    "  }\n",
    "  return result;\n",
    "}\n"
   ]
  },
  {
   "cell_type": "markdown",
   "metadata": {},
   "source": [
    "## 22. First Functions\n",
    "Time to write your own function. Write a function that is called \"sayMyName\". Inside, write a `console.log()` statement that says \"My name is Ada\", but use your own name."
   ]
  },
  {
   "cell_type": "code",
   "execution_count": null,
   "metadata": {},
   "outputs": [],
   "source": [
    "function sayMyName(name) {\n",
    "  console.log(\"My name is \" + name);\n",
    "}"
   ]
  },
  {
   "cell_type": "markdown",
   "metadata": {},
   "source": [
    "## 23. Function Declarations: What time is it?\n",
    "Define a function `whatTimeIsIt` with no parameters that uses `console.log()` to display the current date and time. Hint: use `var now = (new Date()).toTimeString()` to get the current date and time and store it in a variable named `now`"
   ]
  },
  {
   "cell_type": "code",
   "execution_count": null,
   "metadata": {},
   "outputs": [],
   "source": [
    "function whatTimeIsIt() {\n",
    "    var now = (new Date()).toTimeString();\n",
    "    return console.log(now)\n",
    "}"
   ]
  },
  {
   "cell_type": "markdown",
   "metadata": {},
   "source": [
    "## 24. Functions with parameters: determine the slope\n",
    "Define a function named `calculateSlope` that takes four arguments\n",
    "* `x1`, `y1`, `x2`, `y2` (always numbers) which represent coordinates for two points, (x1,y1) and (x2,y2) and calculates the slope of the line represented by the two points.\n",
    "\n",
    "It's safe to assume that `x1` and `x2` will always be different values. If you don't remember how to find the slope, check out this [link](http://www.coolmath.com/algebra/08-lines/06-finding-slope-line-given-two-points-01) "
   ]
  },
  {
   "cell_type": "code",
   "execution_count": null,
   "metadata": {},
   "outputs": [],
   "source": [
    "function calculateSlope(x1,y1,x2,y2) {\n",
    "    var slope;\n",
    "    slope = (y2 - y1)/(x2-x1)\n",
    "    return slope\n",
    "}"
   ]
  },
  {
   "cell_type": "markdown",
   "metadata": {},
   "source": [
    "## 25. Invoking Functions: salutations\n",
    "Given the base code below, write a function named `salutations` that takes one argument\n",
    "* `phrase` (a string) and returns a corresponding salutation, depending on the time of day if the phrase is \"hello\" and it is before 11:59am, return `Good morning` if the phrase is \"hello\" and it is between 12pm and 5:59pm, return `Howdy` if the phrase is \"hello\" and it is after 6pm return `The night is young`\n",
    "\n",
    "if the phrase is \"goodbye\" and it is before 11:59am, return `Have a good day` if the phrase is \"goodbye\" and it is between 12pm and 5:59pm, return `See you tomorrow` if the phrase is \"goodbye\" and it is after 6pm return `Sleep tight`\n",
    "if the phrase is anything other than \"hello\" or \"goodbye\", return \"Hi\"\n",
    "\n",
    "Use the function given below, `currentHour`, to check what time of day it is in order to return the appropriate response"
   ]
  },
  {
   "cell_type": "code",
   "execution_count": null,
   "metadata": {},
   "outputs": [],
   "source": [
    "//DO NOT MODIFY\n",
    "var currentHour = function(){\n",
    "  currentHour.callCount = currentHour.callCount+1 || 1;\n",
    "  return (new Date()).getHours();\n",
    "}\n",
    "\n",
    "function salutations(phrase) {\n",
    "    if (phrase == \"hello\" && currentHour() < 12) {\n",
    "    return \"Good morning\";\n",
    "} else if (phrase == \"hello\" &&  12 <= currentHour() && currentHour() < 6) {\n",
    "    return \"Howdy\";\n",
    "}  else if (phrase == \"hello\" && currentHour() > 6) {\n",
    "    return \"The night is young\"; \n",
    "} else if (phrase == \"goodbye\" && currentHour() < 12) {\n",
    "    return \"Have a good day\";\n",
    "} else if (phrase == \"goodbye\" &&  12 <= currentHour() && currentHour() < 6) {\n",
    "    return \"See you tomorrow\";\n",
    "}  else if (phrase == \"goodbye\" && currentHour() > 6) {\n",
    "    return \"Sleep tight\"; \n",
    "} else {\n",
    "    return \"Hi\"\n",
    "}\n",
    "}"
   ]
  },
  {
   "cell_type": "markdown",
   "metadata": {},
   "source": [
    "## 26. fix the problem! \n",
    "The code in the box below currently doesn't work the way we want it to. We want this function to take a number as input and add up all numbers from 0 to that number and return the summation. For example, when we call `sumUpTo(10)`, we expect the value `55` to be returned, but right now it's only returning `45`. Copy and paste it into the browser's console and add a `console.log(result)` function to check the value of `result` at every iteration of the `for` loop. How can we fix this problem?\n",
    "\n",
    "`if (2 > 1) {\n",
    "  console.log('A');\n",
    "} else {\n",
    "  console.log('B');\n",
    "}`"
   ]
  },
  {
   "cell_type": "code",
   "execution_count": null,
   "metadata": {},
   "outputs": [],
   "source": [
    "function sumUpTo(num){\n",
    "    var result = 0;\n",
    "    for(var i = 0 ; i < num+1; i++){\n",
    "    console.log('i = ',i)\n",
    "        result += i;\n",
    "    console.log('result = ',result);\n",
    "    }\n",
    "    return result;\n",
    "}"
   ]
  },
  {
   "cell_type": "markdown",
   "metadata": {},
   "source": [
    "## 27. Find the Last Character of a String\n",
    "Write a function named `lastCharacter()` that takes in an argument word and returns the last character. If an empty string is passed in, return the boolean `false`."
   ]
  },
  {
   "cell_type": "code",
   "execution_count": null,
   "metadata": {},
   "outputs": [],
   "source": [
    "function lastCharacter(word) {\n",
    "    var word;\n",
    "    if (word.length !== 0){\n",
    "        var last_ind = word.length - 1;\n",
    "        return word[last_ind];\n",
    "    } else {\n",
    "        return false;\n",
    "    }\n",
    "}"
   ]
  },
  {
   "cell_type": "markdown",
   "metadata": {},
   "source": [
    "## 28. Create String\n",
    "Create a function named `createString(data)` that takes in an argument `data`, that can be of any type, and returns the string value of that data passed in or returns null if nothing is passed in.\n",
    "Ex.\n",
    "`console.log(createString(181)); // '181'`"
   ]
  },
  {
   "cell_type": "code",
   "execution_count": null,
   "metadata": {},
   "outputs": [],
   "source": [
    "function createString(data) {\n",
    "    var data;\n",
    "    if (data === \"\" || typeof data === 'undefined') {\n",
    "        return null;\n",
    "        // returns null if data is an empty string or an empty argument\n",
    "    } else {\n",
    "        return String(data);\n",
    "    }\n",
    "}"
   ]
  },
  {
   "cell_type": "markdown",
   "metadata": {},
   "source": [
    "## 29. short friendly title\n",
    "Create a function named `sayHello()` that takes in an argument of `name` and return a string saying 'Hello, ' with the name passed in concatenated with an exclamation mark at the end. If an empty string is passed in, it should return \"Hello! What is your name?\" Ex. sayHello('Tom') would return 'Hello, Tom!'"
   ]
  },
  {
   "cell_type": "code",
   "execution_count": null,
   "metadata": {},
   "outputs": [],
   "source": [
    "function sayHello(name) {\n",
    "    var name = String(name);\n",
    "    if (name.length > 0) {\n",
    "        return \"Hello, \" + name + '!'\n",
    "        \n",
    "    } else {\n",
    "        return \"Hello! What is your name?\"\n",
    "    }\n",
    "    \n",
    "}\n"
   ]
  },
  {
   "cell_type": "markdown",
   "metadata": {},
   "source": [
    "## 30. Handle Multiple Independent Cases\n",
    "* Define a function named toRoman that takes one argument\n",
    "    - arabic (number)\n",
    "* If the argument is less than 1\n",
    "    - Return null\n",
    "* If the argument is greater than 10\n",
    "    - Return null\n",
    "* Otherwise\n",
    "    - Return the argument converted to a roman numeral string\n",
    "\n",
    "Tips:\n",
    "* https://developer.mozilla.org/en-US/docs/Web/JavaScript/Guide/Control_flow_and_error_handling#switch_statement "
   ]
  },
  {
   "cell_type": "code",
   "execution_count": null,
   "metadata": {},
   "outputs": [],
   "source": [
    "function toRoman(arabic) {\n",
    "    var arabic;\n",
    "    switch(arabic) {\n",
    "    case 1:\n",
    "        arabic = \"I\";\n",
    "        break;\n",
    "    case 2:\n",
    "        arabic = \"II\";\n",
    "        break;\n",
    "    case 3:\n",
    "        arabic = \"III\";\n",
    "        break;\n",
    "    case 4:\n",
    "        arabic = \"IV\";\n",
    "        break;\n",
    "    case 5:\n",
    "        arabic = \"V\";\n",
    "        break;\n",
    "    case 6:\n",
    "        arabic = \"VI\";\n",
    "        break;\n",
    "    case 7:\n",
    "        arabic = \"VII\";\n",
    "        break;\n",
    "    case 8:\n",
    "        arabic = \"VIII\";\n",
    "        break;\n",
    "    case 9:\n",
    "        arabic = \"IX\";\n",
    "        break;\n",
    "    case 10:\n",
    "        arabic = \"X\";\n",
    "        break;\n",
    "    default:\n",
    "        arabic = null;\n",
    "    }\n",
    "  return arabic;\n",
    "}"
   ]
  }
 ],
 "metadata": {
  "kernelspec": {
   "display_name": "Javascript (Node.js)",
   "language": "javascript",
   "name": "javascript"
  },
  "language_info": {
   "file_extension": ".js",
   "mimetype": "application/javascript",
   "name": "javascript",
   "version": "10.13.0"
  }
 },
 "nbformat": 4,
 "nbformat_minor": 4
}
