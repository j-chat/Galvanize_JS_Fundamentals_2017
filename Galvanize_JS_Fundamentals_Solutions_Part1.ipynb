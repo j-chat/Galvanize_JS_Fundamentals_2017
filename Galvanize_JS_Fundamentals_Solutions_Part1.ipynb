{
 "cells": [
  {
   "cell_type": "markdown",
   "metadata": {},
   "source": [
    "# Solutions to JavaScript Fundamentals Course by Galvanize (Part 1)"
   ]
  },
  {
   "cell_type": "markdown",
   "metadata": {},
   "source": [
    "Part 1 concepts:\n",
    "* comments\n",
    "* variables \n",
    "* template strings\n",
    "* booleans\n",
    "* calculatons\n",
    "* if/else statements\n",
    "* for loop\n",
    "* while loop\n",
    "* switch statements"
   ]
  },
  {
   "cell_type": "markdown",
   "metadata": {},
   "source": [
    "## 1. Create a multi-line comment.\n",
    "Comment out the non-working code with '/* */'."
   ]
  },
  {
   "cell_type": "code",
   "execution_count": null,
   "metadata": {},
   "outputs": [],
   "source": [
    "let temp = 'this is good';\n",
    "let x = 2 + 3;\n",
    "\n",
    "/*I am a garbage line of code.\n",
    "So am I! I will not work at all!\n",
    "You should comment us all out.\n",
    "\n",
    "Here's some more stuff that's not javascript.\n",
    "Go ahead, comment me out. I don't mind! I'm happy to be gone!*/\n",
    "\n",
    "x = 23;\n",
    "let y = 'okay';"
   ]
  },
  {
   "cell_type": "markdown",
   "metadata": {},
   "source": [
    "## 2. Create your first Variables\n",
    "Create two variables `itemPrice` and `orderQuantity`. Assign `itemPrice` the value, `9`, and `orderQuantity` the value `25`."
   ]
  },
  {
   "cell_type": "code",
   "execution_count": null,
   "metadata": {},
   "outputs": [],
   "source": [
    "var itemPrice;\n",
    "var orderQuantity;\n",
    "itemPrice = 9;\n",
    "orderQuantity = 25;"
   ]
  },
  {
   "cell_type": "markdown",
   "metadata": {},
   "source": [
    "## 3. Create Undefined Variables\n",
    "Create two variables that will contain information you don't yet have:\n",
    "\n",
    "`numHoursToLearnJavascript` \n",
    "\n",
    "`numHoursToLearnTennis` \n"
   ]
  },
  {
   "cell_type": "code",
   "execution_count": null,
   "metadata": {},
   "outputs": [],
   "source": [
    "var numHoursToLearnJavascript;\n",
    "numHoursToLearnJavascript\n",
    "var numHoursToLearnTennis;\n",
    "numHoursToLearnTennis"
   ]
  },
  {
   "cell_type": "markdown",
   "metadata": {},
   "source": [
    "## 4. Create Null Variables\n",
    "Create two variables that we already know will be `null`. Assign them the special keyword `null`.\n",
    "\n",
    "`uglyKittens`\n",
    "\n",
    "`boringPuppies`"
   ]
  },
  {
   "cell_type": "code",
   "execution_count": null,
   "metadata": {},
   "outputs": [],
   "source": [
    "var uglyKittens = null;\n",
    "var boringPuppies = null;"
   ]
  },
  {
   "cell_type": "markdown",
   "metadata": {},
   "source": [
    "## 5. Create and assign variables\n",
    "Create variables using the names below and assign each of them a value that matches their Primitive data type.\n",
    "\n",
    "`aNumber`\n",
    "\n",
    "`aString`\n",
    "\n",
    "`aBoolean`\n",
    "\n",
    "`anUndefinedVariable`\n",
    "\n",
    "`aNullVariable`"
   ]
  },
  {
   "cell_type": "code",
   "execution_count": null,
   "metadata": {},
   "outputs": [],
   "source": [
    "var aNumber = 7\n",
    "var aString = 'string'\n",
    "var aBoolean = true\n",
    "var anUndefinedVariable = undefined\n",
    "var aNullVariable = null"
   ]
  },
  {
   "cell_type": "markdown",
   "metadata": {},
   "source": [
    "## 6. Dimension Variables, use Comparison Operators, Math Operators, Think Logically\n",
    "Choose between `var`, `let` and `const` to create these variables.\n",
    "\n",
    " * Store the number `20` in `bikes`\n",
    " * Store the number `50` in `cars`\n",
    " * Store the number `20` in `vans`\n",
    " * Store the number `200` in `riders`\n",
    " * Store the number `30` in `drivers`\n",
    " * Store the number `5` in `carCapacity`\n",
    " * Store the number `8` in `vanCapacity`\n",
    " * Store the number `30` in `carMPG`\n",
    " * Store the number `20` in v`anMPG`"
   ]
  },
  {
   "cell_type": "code",
   "execution_count": null,
   "metadata": {},
   "outputs": [],
   "source": [
    "//Write your variable declarations & assignments here...\n",
    "var bikes = 20\n",
    "var cars = 50\n",
    "var vans = 20\n",
    "var riders = 200\n",
    "var drivers = 30\n",
    "var carCapacity = 5\n",
    "var vanCapacity = 8\n",
    "var carMPG = 30\n",
    "var vanMPG = 20\n",
    "\n",
    "//For the variables below, determine which boolean value (either true or false) they should be set to instead of null, \n",
    "//on the values contained in the variables above\n",
    "// Do we have enough space for all the riders and drivers in cars?\n",
    "var haveRiderCarCapacity = true;\n",
    "\n",
    "// Do we have enough space for all the riders and drivers in vans?\n",
    "var haveRiderVanCapacity = false;\n",
    "\n",
    "// Do we have enough space for all the riders if each car has to have one driver?\n",
    "var haveEnoughCarDrivers = false;\n",
    "\n",
    "// Do we have enough space for all the riders if we used vans instead of cars?\n",
    "var haveEnoughVanDrivers = false;\n",
    "\n",
    "// If we have to travel 100 miles, will cars use more gas than vans? (assuming we have as many cars or vans and drivers as we would need)\n",
    "var carsMoreThanVans = true;\n"
   ]
  },
  {
   "cell_type": "markdown",
   "metadata": {},
   "source": [
    "## 7. String Concatenation OR Use a Template String\n",
    "Define a function named `greet` that takes 2 arguments\n",
    "* firstName (string)\n",
    "* lastName (string)\n",
    "  - Return a string in the format 'Hello, Kelly Rippa!' using these arguments\n",
    "  - 🌟 Bonus: Use a template string to do this!\n",
    "\n",
    "Bonus:\n",
    "https://developer.mozilla.org/en-US/docs/Web/JavaScript/Reference/Global_Objects/String#Template_strings "
   ]
  },
  {
   "cell_type": "code",
   "execution_count": null,
   "metadata": {},
   "outputs": [],
   "source": [
    "function greet(firstName, lastName) {\n",
    "'Hello, ' + firstName + lastName + '!'\n",
    "}\n"
   ]
  },
  {
   "cell_type": "markdown",
   "metadata": {},
   "source": [
    "## 8. Convert Numbers to Strings\n",
    "Define a function `toDollar` that takes one argument amount (number)\n",
    "\n",
    "Return the argument converted to a dollar currency string. For example, given `10`, then return `$10.00`.\n",
    "\n",
    "See `Number.prototype.toFixed()`"
   ]
  },
  {
   "cell_type": "code",
   "execution_count": null,
   "metadata": {},
   "outputs": [],
   "source": [
    "function toDollar(number) {\n",
    "    return '$' + number.toFixed(2)\n",
    "}\n"
   ]
  },
  {
   "cell_type": "markdown",
   "metadata": {},
   "source": [
    "## 9. Booleans and Comparison: Bakery\n",
    "Using comparison operators, we're going to create several boolean values, and store them in variables.\n",
    "\n",
    "We have to figure out if we can bake enough cakes before the party!\n",
    "\n",
    "First, figure out if we have enough slices now. Use a comparison operator to figure out if there are enough. Assign the result to the enoughSlicesNow variable. Next, figure out how many slices we'll need, if any. Assign the result to the slicesNeeded variable. Figure out how many cakes can be baked, using the formula (bakers * cake time) * hours left. Assign the result to the cakesWeCanBake variable. Now, figure out if you'll have extra slices, using comparison operators. Assign the total number of slices to the finalSliceCount variable, then check if it is greater than the number of attendees and put the result in the extraSlices variable."
   ]
  },
  {
   "cell_type": "code",
   "execution_count": null,
   "metadata": {},
   "outputs": [],
   "source": [
    "// Leave these alone\n",
    "const cakes = 5;\n",
    "const slicesPerCake = 6;\n",
    "const attendees = 60;\n",
    "const bakers = 3;\n",
    "const cakeBakingTime = 1;\n",
    "const hoursLeftUntilParty = 5;\n",
    "\n",
    "//Add comparison operators to the variables below:\n",
    "var enoughSlicesNow;\n",
    "enoughSlicesNow = cakes*slicesPerCake === attendees\n",
    "\n",
    "var slicesNeeded;\n",
    "slicesNeeded = attendees - cakes*slicesPerCake\n",
    "\n",
    "var cakesWeCanBake;\n",
    "cakesWeCanBake = (bakers * cakeBakingTime)*hoursLeftUntilParty\n",
    "\n",
    "var finalSliceCount;\n",
    "finalSliceCount = cakes*slicesPerCake + cakesWeCanBake*slicesPerCake\n",
    "\n",
    "var extraSlices;\n",
    "extraSlices = finalSliceCount > attendees"
   ]
  },
  {
   "cell_type": "markdown",
   "metadata": {},
   "source": [
    "## 10. Numbers and Booleans\n",
    "Define a function named `isEven` that takes one argument\n",
    "* num` (always an integer)\n",
    "    - If the number is even\n",
    "* Return `true`\n",
    "    - Otherwise\n",
    "* Return `false`\n",
    "\n",
    "Define a function named `isOdd` that takes one argument\n",
    "* num` (always an integer)\n",
    "    - If the number is odd\n",
    "* Return `true`\n",
    "    - Otherwise\n",
    "* Return `false`\n",
    "\n",
    "Tips:\n",
    "* Both of these can be solved with one line, as long as you understand your comparison operators!\n",
    "* What number will give you a remainder of 0 if the argument is even?"
   ]
  },
  {
   "cell_type": "code",
   "execution_count": null,
   "metadata": {},
   "outputs": [],
   "source": [
    "function isEven(num) {\n",
    "if (num % 2 == 0) {\n",
    "    return true\n",
    "} else { \n",
    "    return false\n",
    "}\n",
    "}\n",
    "\n",
    "function isOdd(num) {\n",
    "if (num % 2 == 1) {\n",
    "    return true\n",
    "} else { \n",
    "    return false\n",
    "}\n",
    "}"
   ]
  },
  {
   "cell_type": "markdown",
   "metadata": {},
   "source": [
    "## 11. Multiple Dependent Calculations\n",
    "* Define a function named `calculateTaxRate` that takes two arguments\n",
    "    - `salary` (number from 1 to 74,900)\n",
    "    - `status` (string that's either 'single' or 'joint')\n",
    "* If the `status` is anything other than '`single`' or '`joint`'\n",
    "    - Return a string that says '`Better call an accountant`'\n",
    "* If the `salary` is greater than `74,900`\n",
    "    - Return a string that says '`Better call an accountant`'\n",
    "* Otherwise\n",
    "    - Return the correct tax rate as a string using the table from http://www.efile.com/tax-service/tax-calculator/tax-brackets/ "
   ]
  },
  {
   "cell_type": "code",
   "execution_count": null,
   "metadata": {},
   "outputs": [],
   "source": [
    "function calculateTaxRate(salary, status) {\n",
    "if (status != 'single' && status != 'joint') {\n",
    "    return 'Better call an accountant';\n",
    "}\n",
    "if (salary > 74900) {\n",
    "    return 'Better call an accountant';\n",
    "}\n",
    "if (salary < 9325 && status == 'single') {\n",
    "    return 10 + '%';\n",
    "}\n",
    "if (9325 <= salary && salary < 37950 && status == 'single') {\n",
    "    return 15 + '%';\n",
    "}\n",
    "if (37950 <= salary && salary <= 74900 && status == 'single') {\n",
    "    return 25 + '%';\n",
    "}\n",
    "if (salary < 18650 && status == 'joint') {\n",
    "    return 10 + '%';\n",
    "}\n",
    "if (18650 <= salary && salary <= 74900 && status == 'joint') {\n",
    "    return 15 + '%';\n",
    "}\n",
    "}"
   ]
  },
  {
   "cell_type": "markdown",
   "metadata": {},
   "source": [
    "## 12. If/else statements: beverageDecider\n",
    "Write conditional if/else statements within the template below to determine what a person of a given `age` will have to drink with their meal. Write if/else statements to satisfy the following:\n",
    "* if a person's age is under 7, their beverage will be 'milk'\n",
    "* if a person's age is between 7 and 21, their beverage will be 'soda'\n",
    "* if a person's age is between 21 and 35, their beverage will be 'beer'\n",
    "* if a person's age is between 35 and 64, their beverage will be 'vitamin water'\n",
    "* if a person's age is older than 64, their beverage will be 'seltzer water'\n",
    "\n",
    "Make sure to assign the appropriate beverage to the `beverage` variable once it has been determined!"
   ]
  },
  {
   "cell_type": "code",
   "execution_count": null,
   "metadata": {},
   "outputs": [],
   "source": [
    "function beverageDecider(age){        //DO NOT DELETE THIS LINE\n",
    "  var beverage = `undecided`          //DO NOT DELETE THIS LINE\n",
    "\n",
    "  if (age < 7) {\n",
    "    beverage = 'milk';\n",
    "} else if (7 <= age && age < 21) {\n",
    "    beverage = 'soda';\n",
    "} else if (21 <= age && age < 35) {\n",
    "    beverage = 'beer';\n",
    "} else if (35 <= age && age < 64) {\n",
    "    beverage = 'vitamin water';\n",
    "} else {\n",
    "    beverage = 'seltzer water';\n",
    "}\n",
    "\n",
    "\n",
    "  return beverage;                    //DO NOT DELETE THIS LINE\n",
    "}                                     //DO NOT DELETE THIS LINE"
   ]
  },
  {
   "cell_type": "markdown",
   "metadata": {},
   "source": [
    "## 13. While Loops: Reduce to Oddness\n",
    "Given the template below, write a while loop that will continually divide `x` by 2 until it is an odd number. Don't erase any of the pre-existing code, just write code where the template asks for it."
   ]
  },
  {
   "cell_type": "code",
   "execution_count": null,
   "metadata": {},
   "outputs": [],
   "source": [
    "function reduceToOddness(x){    //DO NOT DELETE THIS LINE\n",
    "\n",
    "  while (x % 2 != 1) {\n",
    "    x = x / 2\n",
    "}\n",
    "\n",
    "\n",
    "\n",
    "\n",
    "  return x;   //DO NOT DELETE THIS LINE\n",
    "}   //DO NOT DELETE THIS LINE"
   ]
  },
  {
   "cell_type": "markdown",
   "metadata": {},
   "source": [
    "## 14. For Loops: factorial\n",
    "Given the template below, write a for loop to calculate the factorial of a number (stored in the variable `num`), and store your answer in the variable named `result`. If you're not familiar with factorials, read this [wiki](https://en.wikipedia.org/wiki/Factorial) to learn what they are. Don't erase any of the pre-existing code, just write code where the template asks for it."
   ]
  },
  {
   "cell_type": "code",
   "execution_count": null,
   "metadata": {},
   "outputs": [],
   "source": [
    "function factorial(num){    //DO NOT ERASE THIS LINE\n",
    "  var result = 1;           //DO NOT ERASE THIS LINE\n",
    "  var i;\n",
    "  \n",
    "  for (i=1; i <= num; i++) { \n",
    "    result = i*result;\n",
    "}\n",
    "\n",
    "\n",
    "  return result;            //DO NOT ERASE THIS LINE\n",
    "}                           //DO NOT ERASE THIS LINE"
   ]
  },
  {
   "cell_type": "markdown",
   "metadata": {},
   "source": [
    "## 15. Switch Statements : Spanish days of the week\n",
    "Write a function named `convertDayToSpanish` that takes one argument\n",
    "* `day` (a string) and returns a translated string of that day in Spanish. If the value passed in as `day` is not a day of the week, return `Please input a valid day of the week!`. Expect all input and output for this function to be lowercase with no punctuation. For example, `convertDayToSpanish('monday')` should return `lunes`. Use a switch statement in your function to accomplish this!\n",
    "\n",
    "Given the template below, write a switch statement that will switch on the value stored in the variable `day` and set a variable named `result` to the translated Spanish word for that day. Expect all input and output for this function to be lowercase with no punctuation. For example, if the value of `day` is `monday`, the variable should be set to `lunes`. Don't erase any of the pre-existing code, just write code where the template asks for it."
   ]
  },
  {
   "cell_type": "code",
   "execution_count": null,
   "metadata": {},
   "outputs": [],
   "source": [
    "function convertDayToSpanish(day){                      //DO NOT ERASE THIS LINE\n",
    "  var result = 'Please input a valid day of the week!'  //DO NOT ERASE THIS LINE\n",
    "\n",
    "  switch (day) {\n",
    "    case \"monday\":\n",
    "       result = \"lunes\";\n",
    "       break;\n",
    "    case \"tuesday\":\n",
    "       result = \"martes\";\n",
    "       break;\n",
    "    case \"wednesday\":\n",
    "       result = \"miercoles\";\n",
    "       break;\n",
    "    case \"thursday\":\n",
    "       result = \"jueves\";\n",
    "       break;\n",
    "    case \"friday\":\n",
    "       result = \"viernes\";\n",
    "       break;\n",
    "    case \"saturday\":\n",
    "       result = \"sabado\";\n",
    "       break;\n",
    "    case \"sunday\":\n",
    "       result = \"domingo\";\n",
    "       break;\n",
    "    default:\n",
    "       result;\n",
    "       break;\n",
    "}\n",
    "  return result;                                        //DO NOT ERASE THIS LINE\n",
    "}                                                       //DO NOT ERASE THIS LINE\n"
   ]
  }
 ],
 "metadata": {
  "kernelspec": {
   "display_name": "Javascript (Node.js)",
   "language": "javascript",
   "name": "javascript"
  },
  "language_info": {
   "file_extension": ".js",
   "mimetype": "application/javascript",
   "name": "javascript",
   "version": "10.13.0"
  }
 },
 "nbformat": 4,
 "nbformat_minor": 4
}
